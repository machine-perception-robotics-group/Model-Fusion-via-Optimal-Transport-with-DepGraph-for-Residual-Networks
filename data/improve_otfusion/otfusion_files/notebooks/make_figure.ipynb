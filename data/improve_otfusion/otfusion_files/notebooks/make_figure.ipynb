{
 "cells": [
  {
   "cell_type": "code",
   "execution_count": 1,
   "id": "c15d2d5d-66cb-4499-9584-e90adedefb28",
   "metadata": {},
   "outputs": [],
   "source": [
    "from os.path import join, dirname\n",
    "\n",
    "import matplotlib.pyplot as plt\n",
    "import pandas as pd\n",
    "\n",
    "%matplotlib inline"
   ]
  },
  {
   "cell_type": "code",
   "execution_count": 2,
   "id": "2bc2fdbb-9e7f-4bb7-ae2d-4f40b32aaa50",
   "metadata": {},
   "outputs": [],
   "source": [
    "result_file = '../otfusion_orig_results/cifar10_vgg11/results.csv'\n",
    "df = pd.read_csv(result_file)\n",
    "\n",
    "plt.plot(df.wb, df.geometric_acc, label='OTFusion', marker=\"o\")\n",
    "plt.plot(df.wb, df.naive_acc, label='Vanilla', marker=\"o\")\n",
    "plt.ylabel(\"Test accuracy\")\n",
    "plt.xlabel(r\"Weight towards model_B ($w_b$)\")\n",
    "plt.ylim(0, 100)\n",
    "plt.legend()\n",
    "\n",
    "save_dir = dirname(result_file)\n",
    "save_fn = 'acc.png'\n",
    "save_filepath = join(save_dir, save_fn)\n",
    "save_filepath\n",
    "\n",
    "plt.savefig(save_filepath)\n",
    "plt.clf()\n",
    "plt.close()"
   ]
  },
  {
   "cell_type": "code",
   "execution_count": 3,
   "id": "865fdde6-b050-4344-b8ee-6b535e6fc401",
   "metadata": {},
   "outputs": [],
   "source": [
    "result_file = '../otfusion_orig_results/cifar10_resnet18/results.csv'\n",
    "df = pd.read_csv(result_file)\n",
    "\n",
    "plt.plot(df.wb, df.geometric_acc, label='OTFusion', marker=\"o\")\n",
    "plt.plot(df.wb, df.naive_acc, label='Vanilla', marker=\"o\")\n",
    "plt.ylabel(\"Test accuracy\")\n",
    "plt.xlabel(r\"Weight towards model_B ($w_b$)\")\n",
    "plt.ylim(0, 100)\n",
    "plt.legend()\n",
    "\n",
    "save_dir = dirname(result_file)\n",
    "save_fn = 'acc.png'\n",
    "save_filepath = join(save_dir, save_fn)\n",
    "save_filepath\n",
    "\n",
    "plt.savefig(save_filepath)\n",
    "plt.clf()\n",
    "plt.close()"
   ]
  },
  {
   "cell_type": "code",
   "execution_count": null,
   "id": "96a2f363-46c6-4ebc-b51c-bf7d90039f68",
   "metadata": {},
   "outputs": [],
   "source": []
  }
 ],
 "metadata": {
  "kernelspec": {
   "display_name": "Python 3 (ipykernel)",
   "language": "python",
   "name": "python3"
  },
  "language_info": {
   "codemirror_mode": {
    "name": "ipython",
    "version": 3
   },
   "file_extension": ".py",
   "mimetype": "text/x-python",
   "name": "python",
   "nbconvert_exporter": "python",
   "pygments_lexer": "ipython3",
   "version": "3.10.8"
  }
 },
 "nbformat": 4,
 "nbformat_minor": 5
}
